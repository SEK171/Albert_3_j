{
 "cells": [
  {
   "cell_type": "code",
   "execution_count": 1,
   "id": "9160662c",
   "metadata": {},
   "outputs": [],
   "source": [
    "# import necessary moduals\n",
    "import json\n",
    "import torch\n",
    "from torch import nn\n",
    "import matplotlib.pyplot as plt\n",
    "%matplotlib inline"
   ]
  },
  {
   "cell_type": "code",
   "execution_count": 2,
   "id": "79b9c063",
   "metadata": {},
   "outputs": [],
   "source": [
    "# open and load the data\n",
    "with open(\"intents.json\") as file:\n",
    "    data = json.load(file)"
   ]
  },
  {
   "cell_type": "code",
   "execution_count": 3,
   "id": "c7de00b7",
   "metadata": {},
   "outputs": [],
   "source": [
    "# import the nltk stemmer\n",
    "from nltk.stem.lancaster import LancasterStemmer\n",
    "# initialize the stemmer\n",
    "stemmer = LancasterStemmer()"
   ]
  },
  {
   "cell_type": "code",
   "execution_count": 4,
   "id": "f1478f99",
   "metadata": {},
   "outputs": [],
   "source": [
    "# building the dataset\n",
    "\n",
    "\n",
    "# function for building the dataset using data from the json file\n",
    "def build_dataset(data):\n",
    "    \n",
    "    # initialize the data lists\n",
    "    \n",
    "    # a list of all available words in the dataset\n",
    "    words = []\n",
    "    # a list of all available labels in the dataset\n",
    "    labels = []\n",
    "    # all the patterns for each input\n",
    "    inputs = []\n",
    "    # all the tags for each output\n",
    "    outputs = []\n",
    "    \n",
    "    \n",
    "    # loop through all the intents\n",
    "    for intent in data[\"intents\"]:\n",
    "        # loop through the patterns used to intice each intent\n",
    "        for pattern in intent[\"patterns\"]:\n",
    "            # add the individual words into the words list\n",
    "            words.extend(pattern.split())\n",
    "            # add the current input words (pattern)\n",
    "            inputs.append(pattern.split())\n",
    "            # add the current tag (output)\n",
    "            outputs.append(intent[\"tag\"])\n",
    "            # list all the availabel tags\n",
    "            if intent[\"tag\"] not in labels:\n",
    "                labels.append(intent[\"tag\"])\n",
    "    \n",
    "    # stem the words, aka make them into their root original word form\n",
    "    words = [stemmer.stem(w.lower()) for w in words if w != \"?\" and w != \"!\"]\n",
    "    # remove the duplicates from the words list after stemming and sort them\n",
    "    words = sorted(list(set(words)))\n",
    "    # sort the labels\n",
    "    labels = sorted(labels)\n",
    "    \n",
    "    \n",
    "    # the input and output lists\n",
    "    X = []\n",
    "    Y = []\n",
    "    \n",
    "    # iterate throught the inputs\n",
    "    for i, inp in enumerate(inputs):\n",
    "        # a list of the positions of the words in the current input from the global words list\n",
    "        count = []\n",
    "        # stem all the words in the current input\n",
    "        pattern_words = [stemmer.stem(w.lower()) for w in inp]\n",
    "\n",
    "        # loop through the stemmed words\n",
    "        for w in words:\n",
    "            # add a 1 if the word is present in the pattern\n",
    "            if w in pattern_words:\n",
    "                count.append(1)\n",
    "            # else add a 0\n",
    "            else:\n",
    "                count.append(0)\n",
    "\n",
    "        # make a list of the available positions for each label\n",
    "        output_pos = [0 for _ in range(len(labels))]\n",
    "        # check where the position of the current tag is and set it to 1\n",
    "        output_pos[labels.index(outputs[i])] = 1\n",
    "\n",
    "\n",
    "        # add the current input vector to the inputs list\n",
    "        X.append(count)\n",
    "        # add the current output position to the outputs list\n",
    "        Y.append(output_pos)\n",
    "    \n",
    "    \n",
    "    # make the dataset into torch tensors\n",
    "    X = torch.tensor(X)\n",
    "    Y = torch.tensor(Y)\n",
    "    \n",
    "    # check the shape of the inputs and outputs\n",
    "    print(\"input shape:\",X.shape)\n",
    "    print(\"output shape:\",Y.shape)\n",
    "    print(\"number of words:\", len(words))\n",
    "    print(\"number of labels:\", len(labels))\n",
    "    \n",
    "    # return the inputs, outputs, words and labels\n",
    "    return X, Y, words, labels\n"
   ]
  },
  {
   "cell_type": "code",
   "execution_count": 5,
   "id": "3b4a02dc",
   "metadata": {},
   "outputs": [
    {
     "name": "stdout",
     "output_type": "stream",
     "text": [
      "input shape: torch.Size([56, 60])\n",
      "output shape: torch.Size([56, 19])\n",
      "number of words: 60\n",
      "number of labels: 19\n"
     ]
    }
   ],
   "source": [
    "# create the dataset\n",
    "X, Y, words, labels = build_dataset(data)"
   ]
  },
  {
   "cell_type": "code",
   "execution_count": 6,
   "id": "a7a23b60",
   "metadata": {},
   "outputs": [],
   "source": [
    "# creating the neural network\n",
    "\n",
    "\n",
    "# create a network inheriting from nn.module\n",
    "class NeuralNetwork(nn.Module):\n",
    "    \n",
    "    # initialize the network\n",
    "    def __init__(self, input_shape, output_shape):\n",
    "        \n",
    "        # call the initialization of the network to inherit from nn.module\n",
    "        super().__init__()\n",
    "        \n",
    "        # create the structure of the neural network\n",
    "        \n",
    "        # first hidden layer with relu activation\n",
    "        self.hidden1 = nn.Linear(input_shape, 8)\n",
    "        self.act1 = nn.ReLU()\n",
    "        # second hidden layer with relu activation\n",
    "        self.hidden2 = nn.Linear(8, 8)\n",
    "        self.act2 = nn.ReLU()\n",
    "        # output layer with softmax activation\n",
    "        self.output = nn.Linear(8, output_shape)\n",
    "        self.act_output = nn.Softmax(dim=1)\n",
    "       \n",
    "    # the feed forward function for calculating the output of the neural net\n",
    "    def forward(self, x):\n",
    "        # calculate the output of each layer sequentially\n",
    "                \n",
    "        # first/ input layer\n",
    "        x = self.act1(self.hidden1(x))\n",
    "        # second layer\n",
    "        x = self.act2(self.hidden2(x))\n",
    "        # third/ output layer\n",
    "        x = self.act_output(self.output(x))\n",
    "            \n",
    "        # return the output\n",
    "        return x\n"
   ]
  },
  {
   "cell_type": "code",
   "execution_count": 7,
   "id": "c9329c3f",
   "metadata": {},
   "outputs": [],
   "source": [
    "# preparing the network for training (initializing)\n",
    "\n",
    "\n",
    "# the input and output shapes\n",
    "input_shape = len(words)\n",
    "output_shape = len(labels)\n",
    "\n",
    "# initializing the model\n",
    "model = NeuralNetwork(input_shape, output_shape)\n",
    "\n",
    "# the learning rate of the model\n",
    "learning_rate = 0.001\n",
    "# the function for calculating the loss of the model\n",
    "loss_function = nn.MSELoss()\n",
    "\n",
    "# the optimizer for training the model parameters\n",
    "optimizer = torch.optim.Adam(model.parameters(), lr=learning_rate)"
   ]
  },
  {
   "cell_type": "code",
   "execution_count": 8,
   "id": "67e7b230",
   "metadata": {},
   "outputs": [],
   "source": [
    "# trining the neural network\n",
    "\n",
    "\n",
    "# the number of epochs to train the model for\n",
    "epochs = 1000\n",
    "# the size of the batch we use to train the model\n",
    "batch_size = 8\n",
    "\n",
    "# a list containing the losses of each iteration\n",
    "lossi = []\n",
    "\n",
    "\n",
    "# repeat the process of training the model\n",
    "for epoch in range(epochs):\n",
    "    # loop through all the batches\n",
    "    for i in range(0, len(X), batch_size):\n",
    "        # minibatch construction\n",
    "\n",
    "        # the X and Y used in the training got by indexing onto the dataset with \"batch_size examples\"\n",
    "        X_batch, Y_batch = X[i:i+batch_size], Y[i:i+batch_size]\n",
    "        \n",
    "        # predicting the output\n",
    "        Y_pred = model(X_batch.float())\n",
    "\n",
    "        # calculating the loss\n",
    "        loss = loss_function(Y_pred, Y_batch.float())\n",
    "        \n",
    "        # empty the gradients of the parameters\n",
    "        optimizer.zero_grad()\n",
    "        \n",
    "        # call the backward pass for calculating the new gradients\n",
    "        loss.backward()\n",
    "        \n",
    "        # perform a step by nudging the parameters\n",
    "        optimizer.step()\n",
    "        \n",
    "    \n",
    "    # print the progress of the neural net\n",
    "    lossi.append(loss.item())\n"
   ]
  },
  {
   "cell_type": "code",
   "execution_count": 9,
   "id": "2a9f527a",
   "metadata": {},
   "outputs": [
    {
     "data": {
      "image/png": "[encoded data removed]",
      "text/plain": [
       "<Figure size 640x480 with 1 Axes>"
      ]
     },
     "metadata": {},
     "output_type": "display_data"
    },
    {
     "name": "stdout",
     "output_type": "stream",
     "text": [
      "5.474133558891481e-06\n"
     ]
    }
   ],
   "source": [
    "# graph loss over iterations\n",
    "plt.plot(lossi);\n",
    "plt.show()\n",
    "# print the final loss\n",
    "print(lossi[-1])"
   ]
  },
  {
   "cell_type": "code",
   "execution_count": 10,
   "id": "23323099",
   "metadata": {},
   "outputs": [],
   "source": [
    "\n",
    "# a function to get the prediction from the model using user input\n",
    "def get_intention(inp, model):\n",
    "    # make a list of the available positions for each label\n",
    "    count = [0 for _ in range(len(words))]\n",
    "    # stem the words got from the user input\n",
    "    s_words = [stemmer.stem(w.lower()) for w in inp.split()]\n",
    "    \n",
    "    # loop through the list of stemmed words\n",
    "    for se in s_words:\n",
    "        # loop through each word in the global words list\n",
    "        for i, w in enumerate(words):\n",
    "            # if the current word is in the input\n",
    "            if w == se:\n",
    "                # activate it's current position\n",
    "                count[i] = 1\n",
    "    \n",
    "    # make th input into a torch tensor with dimentions (1, 60)\n",
    "    count = torch.tensor(count).view(1, 60)\n",
    "    \n",
    "    # initiate the intention value as an empty string\n",
    "    intention = \"\"\n",
    "\n",
    "    # do not mind the gradients of the following code\n",
    "    with torch.no_grad():\n",
    "        # predict the output of the model using the count vector\n",
    "        output = model(count.float())\n",
    "        # the output index of the predicted value\n",
    "        output_index = output.argmax()\n",
    "    \n",
    "    # check if the model prediction accuracy is higher than 70%\n",
    "    if output[0][output_index] > 0.7:\n",
    "        # get the tag corresponding tag/intention predicted\n",
    "        tag = labels[output.argmax()]\n",
    "    # if the prediction is not within treshhold\n",
    "    else:\n",
    "        # the intention is unknown\n",
    "        tag = \"Unknown\"\n",
    "    \n",
    "    \n",
    "    \n",
    "    # return the tag/intention\n",
    "    return tag#, intention\n"
   ]
  },
  {
   "cell_type": "code",
   "execution_count": 11,
   "id": "314e465d",
   "metadata": {},
   "outputs": [
    {
     "data": {
      "text/plain": [
       "'search_for_definition'"
      ]
     },
     "execution_count": 11,
     "metadata": {},
     "output_type": "execute_result"
    }
   ],
   "source": [
    "# make a prediction\n",
    "get_intention(\"what is the definition of existence\", model)"
   ]
  },
  {
   "cell_type": "code",
   "execution_count": null,
   "id": "cb9b4a77",
   "metadata": {},
   "outputs": [],
   "source": []
  }
 ],
 "metadata": {
  "kernelspec": {
   "display_name": "Python 3 (ipykernel)",
   "language": "python",
   "name": "python3"
  },
  "language_info": {
   "codemirror_mode": {
    "name": "ipython",
    "version": 3
   },
   "file_extension": ".py",
   "mimetype": "text/x-python",
   "name": "python",
   "nbconvert_exporter": "python",
   "pygments_lexer": "ipython3",
   "version": "3.12.7"
  }
 },
 "nbformat": 4,
 "nbformat_minor": 5
}
